{
 "cells": [
  {
   "cell_type": "code",
   "execution_count": 2,
   "metadata": {},
   "outputs": [],
   "source": [
    "import numpy as np\n",
    "import pandas as pd\n",
    "import matplotlib.pyplot as plt\n",
    "import tikzplotlib"
   ]
  },
  {
   "cell_type": "code",
   "execution_count": 4,
   "metadata": {},
   "outputs": [
    {
     "name": "stdout",
     "output_type": "stream",
     "text": [
      "[1.0280362324419056e-06, 1.5482321820520732e-08, 2.9106898469276293e-07, 3.3285606307181496e-06, 2.8982501396197467e-05, 0.00033133315787437054, 0.0032380172343790146, 0.022764538566975495, 0.16385717401000138]\n",
      "d   m     sigma         runs\n",
      "12  4500  1.000000e-08  0       2.028433e-06\n",
      "                        1       2.763986e-08\n",
      "                        2       1.042700e-08\n",
      "                        3       1.618572e-08\n",
      "                        4       3.526123e-04\n",
      "                                    ...     \n",
      "          1.000000e+00  5       1.703467e-01\n",
      "                        6       1.512768e-01\n",
      "                        7       1.568340e-01\n",
      "                        8       1.677155e-01\n",
      "                        9       1.525166e-01\n",
      "Length: 90, dtype: float64\n"
     ]
    }
   ],
   "source": [
    "sts = ['data_12_4500']\n",
    "data = pd.read_csv(sts[0] + \".csv\", sep=\",\", header=0,index_col=['d','m','sigma','runs'])\n",
    "\n",
    "\n",
    "\n",
    "minval = data.loc[:,'1':'30'].min(axis=1)\n",
    "sigtonoise = data['data norm']/data['noise norm']\n",
    "\n",
    "y = minval.to_numpy()\n",
    "x = sigtonoise.to_numpy()\n",
    "medx = []\n",
    "medy = []\n",
    "for idx,d in data.groupby(level=[0, 1,2]):\n",
    "    medx.append(np.mean(sigtonoise[idx]))  \n",
    "    medy.append(np.median(minval[idx]))\n",
    "    \n",
    "print(medy)\n",
    "print(minval)"
   ]
  },
  {
   "cell_type": "code",
   "execution_count": 16,
   "metadata": {},
   "outputs": [
    {
     "data": {
      "image/png": "[encoded data removed]",
      "text/plain": [
       "<Figure size 1080x432 with 1 Axes>"
      ]
     },
     "metadata": {
      "needs_background": "light"
     },
     "output_type": "display_data"
    }
   ],
   "source": [
    "fig = plt.figure(figsize=(15, 6))\n",
    "ax = plt.gca()\n",
    "ax.scatter(x,y,marker='_', c='blue', alpha=0.25, edgecolors='none')\n",
    "ax.scatter(medx,medy,marker='_', c='darkblue')\n",
    "ax.set_yscale('log')\n",
    "ax.set_xscale('log')\n",
    "plt.xlabel('Signal to Noise Ratio')\n",
    "plt.ylabel('Error')\n",
    "tikzplotlib.save(\"graph.tex\")\n",
    "plt.show()"
   ]
  },
  {
   "cell_type": "code",
   "execution_count": null,
   "metadata": {},
   "outputs": [],
   "source": []
  }
 ],
 "metadata": {
  "kernelspec": {
   "display_name": "Python [conda env:playground] *",
   "language": "python",
   "name": "conda-env-playground-py"
  },
  "language_info": {
   "codemirror_mode": {
    "name": "ipython",
    "version": 3
   },
   "file_extension": ".py",
   "mimetype": "text/x-python",
   "name": "python",
   "nbconvert_exporter": "python",
   "pygments_lexer": "ipython3",
   "version": "3.6.10"
  }
 },
 "nbformat": 4,
 "nbformat_minor": 4
}
