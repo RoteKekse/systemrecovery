{
 "cells": [
  {
   "cell_type": "markdown",
   "metadata": {},
   "source": [
    "# Dynamical System Approximation\n",
    "\n",
    "In this notebook we implement for experimental purposes the Salsa algorithm from Kraemer et. al. (Stable ALS Approximation in the TT-Format for Rank adaptive Tensor Completion.\n",
    "\n",
    "We use a mixture from Xerus and Numpy to deal with Tensors.\n",
    "\n",
    "Again, we try to learn  functional correlations based on given snapshots. The data is created through the following ODE:\n",
    "\\begin{align}\n",
    "\\frac{d^2}{dt^2} x_i = (x_{i+1} - 2x_i + x_{i-1}) + 0.7((x_{i+1} - x_i)^3 - (x_i-x_{i-1})^3)\n",
    "\\end{align}"
   ]
  },
  {
   "cell_type": "code",
   "execution_count": null,
   "metadata": {},
   "outputs": [],
   "source": [
    "import numpy as np\n",
    "import xerus\n",
    "\n",
    "import matplotlib.pyplot as plt\n",
    "from matplotlib.colors import LogNorm\n",
    "import time as _time\n",
    "from itertools import chain\n",
    "import helpers as hp\n",
    "import pandas as pd\n"
   ]
  },
  {
   "cell_type": "markdown",
   "metadata": {},
   "source": [
    "## Salsa implementation\n",
    "Now we can try to recover the exact solution with the SALS algorithm. \n",
    "\n",
    "### Intialization\n",
    "We intialize Salsa with a random rank one Tensor and kmin additional ranks."
   ]
  },
  {
   "cell_type": "code",
   "execution_count": null,
   "metadata": {},
   "outputs": [],
   "source": [
    "def initialize(p,noo,kmin):\n",
    "    dim = [p for i in range(0,noo)]\n",
    "    dim.append(noo)\n",
    "    ranks = [kmin + 1 for i in range(0,noo)]\n",
    "    X = xerus.TTTensor.random(dim,ranks)\n",
    "    X.move_core(0)\n",
    "    X = 0.0*X\n",
    "    omega = 0.5\n",
    "    r1 = 1\n",
    "    r2 = 1\n",
    "    maxrank1 = []\n",
    "    maxrank2 = []\n",
    "    for i in range(len(ranks)):\n",
    "        r1 = r1*dim[i]\n",
    "        r2 = r2*dim[noo-i]\n",
    "        maxrank1.append(r1)\n",
    "        maxrank2.append(r2)\n",
    "    maxrank2.reverse()\n",
    "    maxranks =np.minimum(maxrank1,maxrank2)\n",
    "    return X, maxranks"
   ]
  },
  {
   "cell_type": "markdown",
   "metadata": {},
   "source": [
    "### Perform one SALSA sweep"
   ]
  },
  {
   "cell_type": "code",
   "execution_count": null,
   "metadata": {},
   "outputs": [],
   "source": [
    "# build exact solution\n",
    "def exact(noo,p):\n",
    "    beta = 0.7\n",
    "    Solution = hp.construct_exact_fermit_pasta_single_TT(noo,p,beta) #build in monomial basis\n",
    "    #transform to legendre polynomials\n",
    "    M = np.zeros([4,4])\n",
    "    M[0,0] = 1   #1\n",
    "    M[1,1] = 1   #1\n",
    "    M[2,2] = 1.5 #1.5\n",
    "    M[3,3] = 2.5 #2.5\n",
    "    M[0,2] = -0.5 #-0.5\n",
    "    M[1,3] = -1.5 #-1.5\n",
    "    t = xerus.Tensor.from_ndarray(np.linalg.inv(M))\n",
    "    a1,a2,a3,a4,b1,b2,b3,b4 = xerus.indices(8)\n",
    "    for eq in range(noo):\n",
    "        tmp = Solution.get_component(eq)\n",
    "        tmp(a1,a2,a3) <<  tmp(a1,b2,a3)* t(a2,b2)\n",
    "        Solution.set_component(eq,tmp)\n",
    "    return Solution\n",
    "\n",
    "    "
   ]
  },
  {
   "cell_type": "code",
   "execution_count": null,
   "metadata": {
    "scrolled": false
   },
   "outputs": [],
   "source": [
    "#Master iteration\n",
    "#data_noo_nos = [(6,300),(6,400),(6,500),(6,600),(6,700),(12,1400), \\\n",
    "#            (12,1700),(12,2000),(12,2500),(12,3000),(12,3500),(12,4000)] #pairs used in simulations in the paper\n",
    "#                                                       uncomment to simulate but is computational intensive\n",
    "\n",
    "data_noo_nos = [(8,2000)] #specify pairs to simulate for\n",
    "runs = 1 #specify number of runs for each pair (10 in the paper)\n",
    "#runs = 10\n",
    "max_iter = 60 # specify number of sweeps\n",
    "output = 'data.csv' # specify name of output file\n",
    "\n",
    "# build data structure to store solution\n",
    "tuples = []\n",
    "for data in data_noo_nos:\n",
    "    noo = data[0]\n",
    "    nos = data[1] \n",
    "    for r in range(0,runs):\n",
    "        tuples.append((noo,nos,r))\n",
    "index = pd.MultiIndex.from_tuples(tuples, names=['d', 'm','runs'])           \n",
    "df = pd.DataFrame(np.zeros([len(tuples),max_iter]), index=index)\n",
    "print(len(index))\n",
    "print(data_noo_nos)"
   ]
  },
  {
   "cell_type": "code",
   "execution_count": null,
   "metadata": {},
   "outputs": [],
   "source": [
    "#loop over all pairs of samples, calls hp.run_salsa for the solution\n",
    "kmin = 2\n",
    "\n",
    "psi = hp.basis(0) # get basis functions, Legendre\n",
    "p = len(psi)\n",
    "for data in data_noo_nos:\n",
    "    noo = data[0]\n",
    "    nos = data[1]\n",
    "    print( \"(noo,nos) = (\" + str(noo) +',' + str(nos) + ')' )\n",
    "    Solution = exact(noo,p)\n",
    "    print(\"Solution frob_norm: \" +str(Solution.frob_norm()))\n",
    "    for r in range(runs):\n",
    "        [x, y] = hp.fermi_pasta_ulam(noo, nos)\n",
    "        Alist = hp.build_data_tensor_list2(noo,x,nos,psi,p)\n",
    "        print(Alist[0].dimensions[0])\n",
    "        Y = xerus.Tensor.from_ndarray(y)\n",
    "        X, maxranks = initialize(p,noo, kmin)\n",
    "        errors = hp.run_salsa(X,noo,Alist,nos,Solution,Y,max_iter,maxranks, kmin)\n",
    "        for i in range(len(errors)):\n",
    "            df[i].loc[(noo,nos,r)] = errors[i]\n",
    "        print(\"Run: \" +str(r) + \" finished result = \" + str(errors))\n",
    "        df.to_csv(output)"
   ]
  },
  {
   "cell_type": "code",
   "execution_count": null,
   "metadata": {},
   "outputs": [],
   "source": []
  },
  {
   "cell_type": "code",
   "execution_count": null,
   "metadata": {},
   "outputs": [],
   "source": []
  }
 ],
 "metadata": {
  "kernelspec": {
   "display_name": "Python 3",
   "language": "python",
   "name": "python3"
  },
  "language_info": {
   "codemirror_mode": {
    "name": "ipython",
    "version": 3
   },
   "file_extension": ".py",
   "mimetype": "text/x-python",
   "name": "python",
   "nbconvert_exporter": "python",
   "pygments_lexer": "ipython3",
   "version": "3.7.3"
  }
 },
 "nbformat": 4,
 "nbformat_minor": 2
}
