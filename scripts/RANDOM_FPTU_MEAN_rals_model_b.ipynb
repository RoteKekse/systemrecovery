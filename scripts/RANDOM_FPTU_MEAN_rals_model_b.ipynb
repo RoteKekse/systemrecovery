{
 "cells": [
  {
   "cell_type": "markdown",
   "metadata": {},
   "source": [
    "# Dynamical System Approximation\n",
    "This notebook aims at learning a functional correlation based on given snapshots. The data is created through the following ODE:\n",
    "\\begin{align}\n",
    "\\frac{d^2}{dt^2} x_i = (x_{i+1} - 2x_i + x_{i-1}) + \\beta_i((x_{i+1} - x_i)^3 - (x_i-x_{i-1})^3) + \\sum_{i=1}^dm_ix_i\n",
    "\\end{align}\n",
    "\n",
    "Here we only regularize the optimized part of the coefficients, not the selection tensor."
   ]
  },
  {
   "cell_type": "code",
   "execution_count": null,
   "metadata": {},
   "outputs": [],
   "source": [
    "import numpy as np\n",
    "import xerus\n",
    "import matplotlib.pyplot as plt\n",
    "from matplotlib.colors import LogNorm\n",
    "import time \n",
    "from itertools import chain\n",
    "import helpers as hp\n",
    "import pandas as pd\n",
    "\n",
    "%precision  4"
   ]
  },
  {
   "cell_type": "markdown",
   "metadata": {},
   "source": [
    "For the Fermi Pasta problem, we can construct the exact solution:"
   ]
  },
  {
   "cell_type": "code",
   "execution_count": null,
   "metadata": {},
   "outputs": [],
   "source": [
    "def transform(X,b):\n",
    "    M = np.zeros([4,4])\n",
    "    if b == 0:\n",
    "        M[0,0] = 1   #1\n",
    "        M[1,1] = 1   #1\n",
    "        M[2,2] = 1.5 #1.5\n",
    "        M[3,3] = 2.5 #2.5\n",
    "        M[0,2] = -0.5 #-0.5\n",
    "        M[1,3] = -1.5 #-1.5\n",
    "    elif b == 1:\n",
    "        M[0,0] = 1/np.sqrt(2)   #1\n",
    "        M[1,1] = np.sqrt(3/8)    #1\n",
    "        M[2,2] = np.sqrt(45/128) #1.5\n",
    "        M[3,3] = 5*np.sqrt(7/302)  #2.5\n",
    "        M[0,2] = -np.sqrt(5/128)  #-0.5\n",
    "        M[1,3] = -9/2*np.sqrt(7/302) #-1.5\n",
    "    elif b == 2:\n",
    "        M = np.identity(4)\n",
    "    t = xerus.Tensor.from_ndarray(np.linalg.inv(M))\n",
    "    a1,a2,a3,a4,b1,b2,b3,b4 = xerus.indices(8)\n",
    "    for eq in range(noo):\n",
    "        tmp = X.get_component(eq)\n",
    "        tmp2 = C2list[eq]\n",
    "        tmp(a1,a2,a3,a4) <<  tmp(a1,b2,a3,a4)* t(a2,b2) \n",
    "        X.set_component(eq,tmp)\n",
    "    return X\n",
    "\n",
    "def project(X):\n",
    "    dim = ([(3 if i == 0 or i == noo -1 else 4) for i in range(0,noo)])\n",
    "    dim.extend(dim)\n",
    "    C2T = xerus.TTOperator(dim)    \n",
    "    for eq in range(noo):\n",
    "        idx = [0 for i in range(noo)]\n",
    "        if eq == 0:\n",
    "            idx[0] = 2\n",
    "            idx[1] = 3\n",
    "        elif eq == noo -1:\n",
    "            idx[noo-2] = 1\n",
    "            idx[noo-1] = 1\n",
    "        elif eq == noo -2:\n",
    "            idx[eq-1] = 1\n",
    "            idx[eq]   = 2\n",
    "            idx[eq+1] = 2\n",
    "        else:\n",
    "            idx[eq-1] = 1\n",
    "            idx[eq]   = 2\n",
    "            idx[eq+1] = 3\n",
    "        idx.extend(idx)\n",
    "        C2T += xerus.TTOperator.dirac(dim,idx) \n",
    "    C2T.round(1e-12)\n",
    "    i1,i2,i3,i4,i5,i6,j1,j2,j3,j4,k1,k2,k3 = xerus.indices(13)\n",
    "\n",
    "    X(i1^noo,j1^noo) << X(i1^noo,k1^noo) * C2T(k1^noo,j1^noo)\n",
    "    X.round(1e-12)\n",
    "    return X\n",
    "\n",
    "def exact(noo,p,b):\n",
    "    C1ex,m,beta = hp.construct_exact_fermit_pasta_random(noo,p,True)\n",
    "    C1ex = transform(C1ex,b)  \n",
    "    C1ex = project(C1ex) \n",
    "    return C1ex,m,beta"
   ]
  },
  {
   "cell_type": "markdown",
   "metadata": {},
   "source": [
    "Now we can try to recover the exact solution with the regularized ALS algorithm. E.g.:"
   ]
  },
  {
   "cell_type": "code",
   "execution_count": null,
   "metadata": {},
   "outputs": [],
   "source": [
    "def initialize(p,noo):\n",
    "    rank = 4 #fix rank\n",
    "    dim = [p for i in range(0,noo)]\n",
    "    dim.extend([4 for i in range(0,noo)])\n",
    "    dim[noo] = 3\n",
    "    dim[2*noo-1]=3\n",
    "    C = xerus.TTOperator.random(dim,[rank for i in range(0,noo-1)]) # initalize randomly\n",
    "    C.move_core(0,True)\n",
    "    return C #/ C.frob_norm()"
   ]
  },
  {
   "cell_type": "code",
   "execution_count": null,
   "metadata": {},
   "outputs": [],
   "source": [
    "# We choose different pairs of dimensions and samplesizes to run the algoirthm for.\n",
    "data_noo_nos = [(18,6000)]\n",
    "runs = 10 # each pair of dimension and samplesize is run 10 times\n",
    "max_iter = 20 # we do 20 sweeps\n",
    "\n",
    "tuples = []\n",
    "for data in data_noo_nos:\n",
    "    noo = data[0]\n",
    "    nos = data[1] \n",
    "    for r in range(0,runs):\n",
    "        tuples.append((noo,nos,r))\n",
    "index = pd.MultiIndex.from_tuples(tuples, names=['d', 'm','runs'])           \n",
    "\n",
    "# The results of each optimization is store in a Dataframe\n",
    "df = pd.DataFrame(np.zeros([len(tuples),max_iter]), index=index) \n",
    "print(len(index))\n",
    "print(data_noo_nos)\n",
    "output = 'data.csv'\n"
   ]
  },
  {
   "cell_type": "code",
   "execution_count": null,
   "metadata": {},
   "outputs": [],
   "source": [
    "b = 0 #legendre\n",
    "lam = 1\n",
    "#Master iteration\n",
    "psi = hp.basis(b) # get basis functions\n",
    "p = len(psi)\n",
    "for data in data_noo_nos:\n",
    "    noo = data[0]\n",
    "    nos = data[1]\n",
    "    print( \"(noo,nos) = (\" + str(noo) +',' + str(nos) + ')' )\n",
    "    C2list = hp.build_choice_tensor2(noo)\n",
    "    for r in range(runs):\n",
    "        C1ex,m,beta = exact(noo,p,b)\n",
    "        print(\"C1ex frob_norm: \" +str(C1ex.frob_norm()))\n",
    "\n",
    "        print(m)\n",
    "        print(beta)\n",
    "        x = 2 * np.random.rand(noo, nos) - 1\n",
    "        Alist = hp.build_data_tensor_list2(noo,x,nos,psi,p)\n",
    "        y = hp.random_data_selection(Alist,C1ex,C2list,noo,nos)\n",
    "        Y = xerus.Tensor.from_ndarray(y)\n",
    "        C1 = initialize(p,noo)\n",
    "        start = time.time()\n",
    "        errors = hp.run_als(noo,nos,C1,C2list,Alist,C1ex,Y,max_iter,lam) # run the regularized ALS iteration\n",
    "        print(str(time.time() - start) + ' secs')\n",
    "        for i in range(1,len(errors)):\n",
    "            df[i-1].loc[(noo,nos,r)] = errors[i-1]\n",
    "\n",
    "        print(\"Run: \" +str(r) + \" finished result = \" + str(errors))\n",
    "        df.to_csv(output)"
   ]
  },
  {
   "cell_type": "code",
   "execution_count": null,
   "metadata": {},
   "outputs": [],
   "source": []
  },
  {
   "cell_type": "code",
   "execution_count": null,
   "metadata": {},
   "outputs": [],
   "source": []
  },
  {
   "cell_type": "code",
   "execution_count": null,
   "metadata": {},
   "outputs": [],
   "source": []
  }
 ],
 "metadata": {
  "kernelspec": {
   "display_name": "Python 3",
   "language": "python",
   "name": "python3"
  },
  "language_info": {
   "codemirror_mode": {
    "name": "ipython",
    "version": 3
   },
   "file_extension": ".py",
   "mimetype": "text/x-python",
   "name": "python",
   "nbconvert_exporter": "python",
   "pygments_lexer": "ipython3",
   "version": "3.7.3"
  }
 },
 "nbformat": 4,
 "nbformat_minor": 2
}
