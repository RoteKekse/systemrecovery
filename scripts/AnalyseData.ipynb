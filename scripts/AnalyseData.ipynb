{
 "cells": [
  {
   "cell_type": "code",
   "execution_count": null,
   "metadata": {},
   "outputs": [],
   "source": [
    "import pandas as pd\n",
    "import numpy as np"
   ]
  },
  {
   "cell_type": "code",
   "execution_count": null,
   "metadata": {},
   "outputs": [],
   "source": [
    "# Analyse Simulation Data to get success rate for error smaller than eps\n",
    "eps = 1e-6 # threshold\n",
    "sts = ['data'] #list of csv files to be analysed, result is printed to _result.csv\n",
    "for st in sts:\n",
    "    data = pd.read_csv(st + \".csv\", sep=\",\", header=0,index_col=['d','m','runs'])\n",
    "    data.replace(0, np.nan, inplace=True)\n",
    "    runs = len(data.index.levels[2])\n",
    "    datamin = data.iloc[:,0:60].min(axis=1)\n",
    "    result = pd.DataFrame(columns=['d','m','success'])\n",
    "    \n",
    "    for idx,d in data.groupby(level=[0, 1]):\n",
    "        i = idx[0]\n",
    "        j = idx[1]\n",
    "        result = result.append({'d': i, 'm' : j, 'success': np.sum(datamin.loc[i,j] < eps) /runs }, \\\n",
    "                               ignore_index=True) # calculate successrate\n",
    "\n",
    "\n",
    "\n",
    "    result = result.set_index(['d','m'])\n",
    "    result.to_csv(st+\"_results.csv\") # write to disc\n",
    "    print(st)\n",
    "    print(result)"
   ]
  },
  {
   "cell_type": "code",
   "execution_count": null,
   "metadata": {},
   "outputs": [],
   "source": [
    "# Analyse Simulation Data to get success rate for error smaller than eps with restarts\n",
    "eps = 1e-6\n",
    "sts = ['data'] #list of csv files to be analysed\n",
    "for st in sts:\n",
    "    data = pd.read_csv(st + \".csv\", sep=\",\", header=0,index_col=['d','m','runs'])\n",
    "    data[0:24].replace(0, np.nan, inplace=True)\n",
    "    runs = len(data.index.levels[2])\n",
    "    datamin = data.iloc[:,0:60].min(axis=1)\n",
    "    result = pd.DataFrame(columns=['d','m','success'])\n",
    "    \n",
    "    for idx,d in data.groupby(level=[0, 1]):\n",
    "        i = idx[0]\n",
    "        j = idx[1]\n",
    "        print(data['restarts'].loc[i,j])\n",
    "        result = result.append({'d': i, 'm' : j, \\\n",
    "                                'success': np.sum(datamin.loc[i,j] < eps) /runs , \\\n",
    "                                'restarts':np.mean(data['restarts'].loc[i,j])}, \\\n",
    "                               ignore_index=True)  # calculate successrate and number of restarts\n",
    "\n",
    "\n",
    "\n",
    "    result = result.set_index(['d','m'])\n",
    "    result.to_csv(st+\"_results.csv\")   # write to disc\n",
    "    print(st)\n",
    "    print(result)"
   ]
  },
  {
   "cell_type": "code",
   "execution_count": null,
   "metadata": {},
   "outputs": [],
   "source": []
  },
  {
   "cell_type": "code",
   "execution_count": null,
   "metadata": {},
   "outputs": [],
   "source": []
  }
 ],
 "metadata": {
  "kernelspec": {
   "display_name": "Python 3.6",
   "language": "python",
   "name": "python_3.6"
  },
  "language_info": {
   "codemirror_mode": {
    "name": "ipython",
    "version": 3
   },
   "file_extension": ".py",
   "mimetype": "text/x-python",
   "name": "python",
   "nbconvert_exporter": "python",
   "pygments_lexer": "ipython3",
   "version": "3.6.9"
  }
 },
 "nbformat": 4,
 "nbformat_minor": 2
}
